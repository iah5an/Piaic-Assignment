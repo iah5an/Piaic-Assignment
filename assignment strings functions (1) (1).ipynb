{
 "cells": [
  {
   "cell_type": "code",
   "execution_count": 3,
   "metadata": {},
   "outputs": [
    {
     "name": "stdout",
     "output_type": "stream",
     "text": [
      "Old String:  mY namE is ahSan.\n",
      "Capitalized String: My name is ahsan.\n"
     ]
    }
   ],
   "source": [
    "string = \"mY namE is ahSan.\"\n",
    "\n",
    "a = string.capitalize()\n",
    "\n",
    "print('Old String: ', string)\n",
    "print('Capitalized String:', a)"
   ]
  },
  {
   "cell_type": "code",
   "execution_count": 6,
   "metadata": {},
   "outputs": [
    {
     "name": "stdout",
     "output_type": "stream",
     "text": [
      "Centered String:                   You are awesome                  \n"
     ]
    }
   ],
   "source": [
    "string = \"You are awesome\"\n",
    "\n",
    "new_string = string.center(50)\n",
    "\n",
    "print(\"Centered String: \", new_string)"
   ]
  },
  {
   "cell_type": "code",
   "execution_count": 8,
   "metadata": {},
   "outputs": [
    {
     "name": "stdout",
     "output_type": "stream",
     "text": [
      "Lowercase string: python is awesome\n"
     ]
    }
   ],
   "source": [
    "string = \"PYTHON IS AWESOME\"\n",
    "a=string.casefold()\n",
    "print(\"Lowercase string:\",a )"
   ]
  },
  {
   "cell_type": "code",
   "execution_count": 28,
   "metadata": {},
   "outputs": [
    {
     "name": "stdout",
     "output_type": "stream",
     "text": [
      "The count is: 1\n"
     ]
    }
   ],
   "source": [
    "string = \"Python is awesome, isn't it?\"\n",
    "substring = \"is\"\n",
    "\n",
    "count = string.count(string)\n",
    "\n",
    "# print count\n",
    "print(\"The count is:\", count)"
   ]
  },
  {
   "cell_type": "code",
   "execution_count": 10,
   "metadata": {},
   "outputs": [
    {
     "name": "stdout",
     "output_type": "stream",
     "text": [
      "True\n",
      "True\n"
     ]
    }
   ],
   "source": [
    "text = \"Python is easy to learn.\"\n",
    "\n",
    "result = text.endswith('to learn.')\n",
    "print(result)\n",
    "result = text.endswith('Python is easy to learn.')\n",
    "\n",
    "print(result)"
   ]
  },
  {
   "cell_type": "code",
   "execution_count": 16,
   "metadata": {},
   "outputs": [
    {
     "name": "stdout",
     "output_type": "stream",
     "text": [
      "python  123458  java\n"
     ]
    }
   ],
   "source": [
    "str = 'python\\t123458\\tjava'\n",
    "\n",
    "\n",
    "result = str.expandtabs()\n",
    "\n",
    "print(result)"
   ]
  },
  {
   "cell_type": "code",
   "execution_count": 12,
   "metadata": {},
   "outputs": [
    {
     "name": "stdout",
     "output_type": "stream",
     "text": [
      "The string is: pythön!\n",
      "The encoded version is: b'pyth\\xc3\\xb6n!'\n"
     ]
    }
   ],
   "source": [
    "string = 'pythön!'\n",
    "# print string\n",
    "print('The string is:', string)\n",
    "string_utf = string.encode()\n",
    "# print result\n",
    "print('The encoded version is:', string_utf)\n"
   ]
  },
  {
   "cell_type": "code",
   "execution_count": 17,
   "metadata": {},
   "outputs": [
    {
     "name": "stdout",
     "output_type": "stream",
     "text": [
      "Substring 'let it': 11\n"
     ]
    }
   ],
   "source": [
    "quote = 'Let it be, let it be, let it be'\n",
    "\n",
    "result = quote.find('let it')\n",
    "print(\"Substring 'let it':\", result)\n"
   ]
  },
  {
   "cell_type": "code",
   "execution_count": 20,
   "metadata": {},
   "outputs": [
    {
     "name": "stdout",
     "output_type": "stream",
     "text": [
      "Heyyy Ahsan ! your  current balance is 240.2346.\n"
     ]
    }
   ],
   "source": [
    "print(\"Heyyy {} ! your  current balance is {}.\".format(\"Ahsan\", 240.2346))"
   ]
  },
  {
   "cell_type": "code",
   "execution_count": 24,
   "metadata": {},
   "outputs": [
    {
     "name": "stdout",
     "output_type": "stream",
     "text": [
      "Substring 'is fun': 19\n"
     ]
    }
   ],
   "source": [
    "string = 'Python programming is fun.'\n",
    "\n",
    "a = string.index('is fun')\n",
    "print(\"Substring 'is fun':\", a)\n",
    "\n"
   ]
  },
  {
   "cell_type": "code",
   "execution_count": 26,
   "metadata": {},
   "outputs": [
    {
     "name": "stdout",
     "output_type": "stream",
     "text": [
      "True\n",
      "False\n"
     ]
    }
   ],
   "source": [
    "a = \"M234onica\"\n",
    "print(a.isalnum())\n",
    "\n",
    "name = \"M3onica Gell22er \"\n",
    "print(name.isalnum())"
   ]
  },
  {
   "cell_type": "code",
   "execution_count": 27,
   "metadata": {},
   "outputs": [
    {
     "name": "stdout",
     "output_type": "stream",
     "text": [
      "True\n"
     ]
    }
   ],
   "source": [
    "name = \"Monica\"\n",
    "print(name.isalpha())"
   ]
  },
  {
   "cell_type": "code",
   "execution_count": 36,
   "metadata": {},
   "outputs": [
    {
     "name": "stdout",
     "output_type": "stream",
     "text": [
      "['n', 'o', 'h', 't', 'y', 'P']\n"
     ]
    }
   ],
   "source": [
    "seqString = 'Python'\n",
    "print(list(reversed(seqString)))\n"
   ]
  },
  {
   "cell_type": "code",
   "execution_count": 44,
   "metadata": {},
   "outputs": [
    {
     "name": "stdout",
     "output_type": "stream",
     "text": [
      "2.5\n",
      "7.5\n"
     ]
    }
   ],
   "source": [
    "numbers = [2.5, 3, 4, -5,-2]\n",
    "\n",
    "# start parameter is not provided\n",
    "numbersSum = sum(numbers)\n",
    "print(numbersSum)\n",
    "\n",
    "# start = 10\n",
    "numbersSum = sum(numbers, 5)\n",
    "print(numbersSum)"
   ]
  },
  {
   "cell_type": "code",
   "execution_count": null,
   "metadata": {},
   "outputs": [],
   "source": [
    "n=int(input('Name is:'))\n",
    "print(n)"
   ]
  },
  {
   "cell_type": "code",
   "execution_count": null,
   "metadata": {},
   "outputs": [],
   "source": [
    "inputString = input()\n",
    "print('The inputted string is:', inputString)\n"
   ]
  },
  {
   "cell_type": "code",
   "execution_count": null,
   "metadata": {},
   "outputs": [],
   "source": [
    "s = \"28212\"\n",
    "print(s.isdecimal())\n",
    "\n",
    "# contains alphabets\n",
    "s = \"32ladk3\"\n",
    "print(s.isdecimal())"
   ]
  },
  {
   "cell_type": "code",
   "execution_count": null,
   "metadata": {},
   "outputs": [],
   "source": [
    "q='ahsan199'\n",
    "print(a.isnumeric())\n",
    "#returns false"
   ]
  },
  {
   "cell_type": "code",
   "execution_count": null,
   "metadata": {},
   "outputs": [],
   "source": [
    "s = 'Space is a printable ' #yes it is printable\n",
    "\n",
    "print(s.isprintable())\n",
    "\n",
    "s = '\\nNew Line is printable' #not printable bcz of \\n\n",
    "print(s)\n",
    "print(s.isprintable())\n",
    "\n",
    "s = '' #yes empetystring is printable\n",
    "print('\\nEmpty string printable?', s.isprintable())"
   ]
  },
  {
   "cell_type": "code",
   "execution_count": null,
   "metadata": {},
   "outputs": [],
   "source": [
    "s = '   \\t'   #yes space is present\n",
    "print(s.isspace())\n",
    "\n",
    "s = ' a ' #space is not present\n",
    "print(s.isspace())\n",
    "\n",
    "s = ''   #space is not present\n",
    "print(s.isspace())\n"
   ]
  },
  {
   "cell_type": "code",
   "execution_count": null,
   "metadata": {},
   "outputs": [],
   "source": [
    "test = [] #false bcz it is considered false in python\n",
    "print(test,'is',bool(test))\n",
    "\n",
    "test = [0] #true\n",
    "print(test,'is',bool(test))\n",
    "\n",
    "test = 0.0  \n",
    "print(test,'is',bool(test))"
   ]
  },
  {
   "cell_type": "code",
   "execution_count": null,
   "metadata": {},
   "outputs": [],
   "source": [
    "aa = \"Sammy contributes to open source.\"\n",
    "print(len(aa)) # 33"
   ]
  },
  {
   "cell_type": "code",
   "execution_count": null,
   "metadata": {},
   "outputs": [],
   "source": []
  }
 ],
 "metadata": {
  "kernelspec": {
   "display_name": "Python 3",
   "language": "python",
   "name": "python3"
  },
  "language_info": {
   "codemirror_mode": {
    "name": "ipython",
    "version": 3
   },
   "file_extension": ".py",
   "mimetype": "text/x-python",
   "name": "python",
   "nbconvert_exporter": "python",
   "pygments_lexer": "ipython3",
   "version": "3.7.4"
  }
 },
 "nbformat": 4,
 "nbformat_minor": 2
}
